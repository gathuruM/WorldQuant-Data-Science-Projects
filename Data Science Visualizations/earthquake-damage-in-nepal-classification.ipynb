{
 "cells": [
  {
   "cell_type": "code",
   "execution_count": 1,
   "id": "1e304cda",
   "metadata": {
    "_cell_guid": "b1076dfc-b9ad-4769-8c92-a6c4dae69d19",
    "_uuid": "8f2839f25d086af736a60e9eeb907d3b93b6e0e5",
    "execution": {
     "iopub.execute_input": "2022-08-17T17:35:39.320985Z",
     "iopub.status.busy": "2022-08-17T17:35:39.319883Z",
     "iopub.status.idle": "2022-08-17T17:35:39.347205Z",
     "shell.execute_reply": "2022-08-17T17:35:39.346289Z"
    },
    "papermill": {
     "duration": 0.0492,
     "end_time": "2022-08-17T17:35:39.349840",
     "exception": false,
     "start_time": "2022-08-17T17:35:39.300640",
     "status": "completed"
    },
    "tags": []
   },
   "outputs": [
    {
     "name": "stdout",
     "output_type": "stream",
     "text": [
      "/kaggle/input/earthquake-damage-in-nepal/NepalEarhquakeDamage2015.csv\n"
     ]
    }
   ],
   "source": [
    "\n",
    "import numpy as np # linear algebra\n",
    "import pandas as pd # data processing, CSV file I/O (e.g. pd.read_csv)\n",
    "\n",
    "# Input data files are available in the read-only \"../input/\" directory\n",
    "# For example, running this (by clicking run or pressing Shift+Enter) will list all files under the input directory\n",
    "\n",
    "import os\n",
    "for dirname, _, filenames in os.walk('/kaggle/input'):\n",
    "    for filename in filenames:\n",
    "        print(os.path.join(dirname, filename))\n"
   ]
  },
  {
   "cell_type": "code",
   "execution_count": 2,
   "id": "0c4e2238",
   "metadata": {
    "execution": {
     "iopub.execute_input": "2022-08-17T17:35:39.386491Z",
     "iopub.status.busy": "2022-08-17T17:35:39.385547Z",
     "iopub.status.idle": "2022-08-17T17:35:40.851426Z",
     "shell.execute_reply": "2022-08-17T17:35:40.850504Z"
    },
    "papermill": {
     "duration": 1.485754,
     "end_time": "2022-08-17T17:35:40.853875",
     "exception": false,
     "start_time": "2022-08-17T17:35:39.368121",
     "status": "completed"
    },
    "tags": []
   },
   "outputs": [],
   "source": [
    "import seaborn as sns\n",
    "import matplotlib.pyplot as plt\n",
    "\n",
    "# For logistic Regression\n",
    "\n",
    "from category_encoders import OneHotEncoder\n",
    "from sklearn.linear_model import LogisticRegression\n",
    "from sklearn.metrics import accuracy_score\n",
    "from sklearn.model_selection import train_test_split\n",
    "from sklearn.pipeline import Pipeline, make_pipeline\n",
    "from sklearn.utils.validation import check_is_fitted\n",
    "\n",
    "\n",
    "# For Decision Tree\n",
    "from category_encoders import OrdinalEncoder\n",
    "from sklearn.tree import DecisionTreeClassifier, plot_tree"
   ]
  },
  {
   "cell_type": "code",
   "execution_count": 3,
   "id": "014dec67",
   "metadata": {
    "execution": {
     "iopub.execute_input": "2022-08-17T17:35:40.898814Z",
     "iopub.status.busy": "2022-08-17T17:35:40.898304Z",
     "iopub.status.idle": "2022-08-17T17:35:43.487576Z",
     "shell.execute_reply": "2022-08-17T17:35:43.486424Z"
    },
    "papermill": {
     "duration": 2.620469,
     "end_time": "2022-08-17T17:35:43.490555",
     "exception": false,
     "start_time": "2022-08-17T17:35:40.870086",
     "status": "completed"
    },
    "tags": []
   },
   "outputs": [],
   "source": [
    "df=pd.read_csv(\"../input/earthquake-damage-in-nepal/NepalEarhquakeDamage2015.csv\")"
   ]
  },
  {
   "cell_type": "code",
   "execution_count": 4,
   "id": "20f9d2ef",
   "metadata": {
    "execution": {
     "iopub.execute_input": "2022-08-17T17:35:43.523669Z",
     "iopub.status.busy": "2022-08-17T17:35:43.522989Z",
     "iopub.status.idle": "2022-08-17T17:35:43.546548Z",
     "shell.execute_reply": "2022-08-17T17:35:43.545808Z"
    },
    "papermill": {
     "duration": 0.042252,
     "end_time": "2022-08-17T17:35:43.548616",
     "exception": false,
     "start_time": "2022-08-17T17:35:43.506364",
     "status": "completed"
    },
    "tags": []
   },
   "outputs": [
    {
     "data": {
      "text/html": [
       "<div>\n",
       "<style scoped>\n",
       "    .dataframe tbody tr th:only-of-type {\n",
       "        vertical-align: middle;\n",
       "    }\n",
       "\n",
       "    .dataframe tbody tr th {\n",
       "        vertical-align: top;\n",
       "    }\n",
       "\n",
       "    .dataframe thead th {\n",
       "        text-align: right;\n",
       "    }\n",
       "</style>\n",
       "<table border=\"1\" class=\"dataframe\">\n",
       "  <thead>\n",
       "    <tr style=\"text-align: right;\">\n",
       "      <th></th>\n",
       "      <th>building_id</th>\n",
       "      <th>district_id</th>\n",
       "      <th>count_floors_pre_eq</th>\n",
       "      <th>count_floors_post_eq</th>\n",
       "      <th>age_building</th>\n",
       "      <th>plinth_area_sq_ft</th>\n",
       "      <th>height_ft_pre_eq</th>\n",
       "      <th>height_ft_post_eq</th>\n",
       "      <th>land_surface_condition</th>\n",
       "      <th>foundation_type</th>\n",
       "      <th>roof_type</th>\n",
       "      <th>ground_floor_type</th>\n",
       "      <th>other_floor_type</th>\n",
       "      <th>position</th>\n",
       "      <th>plan_configuration</th>\n",
       "      <th>condition_post_eq</th>\n",
       "      <th>damage_grade</th>\n",
       "    </tr>\n",
       "  </thead>\n",
       "  <tbody>\n",
       "    <tr>\n",
       "      <th>0</th>\n",
       "      <td>120101000011</td>\n",
       "      <td>12</td>\n",
       "      <td>1</td>\n",
       "      <td>1</td>\n",
       "      <td>9</td>\n",
       "      <td>288</td>\n",
       "      <td>9</td>\n",
       "      <td>9</td>\n",
       "      <td>Flat</td>\n",
       "      <td>Other</td>\n",
       "      <td>Bamboo/Timber-Light roof</td>\n",
       "      <td>Mud</td>\n",
       "      <td>Not applicable</td>\n",
       "      <td>Not attached</td>\n",
       "      <td>Rectangular</td>\n",
       "      <td>Damaged-Used in risk</td>\n",
       "      <td>Grade 3</td>\n",
       "    </tr>\n",
       "    <tr>\n",
       "      <th>1</th>\n",
       "      <td>120101000021</td>\n",
       "      <td>12</td>\n",
       "      <td>1</td>\n",
       "      <td>1</td>\n",
       "      <td>15</td>\n",
       "      <td>364</td>\n",
       "      <td>9</td>\n",
       "      <td>9</td>\n",
       "      <td>Flat</td>\n",
       "      <td>Other</td>\n",
       "      <td>Bamboo/Timber-Light roof</td>\n",
       "      <td>Mud</td>\n",
       "      <td>Not applicable</td>\n",
       "      <td>Not attached</td>\n",
       "      <td>Rectangular</td>\n",
       "      <td>Damaged-Repaired and used</td>\n",
       "      <td>Grade 5</td>\n",
       "    </tr>\n",
       "    <tr>\n",
       "      <th>2</th>\n",
       "      <td>120101000031</td>\n",
       "      <td>12</td>\n",
       "      <td>1</td>\n",
       "      <td>1</td>\n",
       "      <td>20</td>\n",
       "      <td>384</td>\n",
       "      <td>9</td>\n",
       "      <td>9</td>\n",
       "      <td>Flat</td>\n",
       "      <td>Other</td>\n",
       "      <td>Bamboo/Timber-Light roof</td>\n",
       "      <td>Mud</td>\n",
       "      <td>Not applicable</td>\n",
       "      <td>Not attached</td>\n",
       "      <td>Rectangular</td>\n",
       "      <td>Damaged-Repaired and used</td>\n",
       "      <td>Grade 2</td>\n",
       "    </tr>\n",
       "    <tr>\n",
       "      <th>3</th>\n",
       "      <td>120101000041</td>\n",
       "      <td>12</td>\n",
       "      <td>1</td>\n",
       "      <td>1</td>\n",
       "      <td>20</td>\n",
       "      <td>312</td>\n",
       "      <td>9</td>\n",
       "      <td>9</td>\n",
       "      <td>Flat</td>\n",
       "      <td>Other</td>\n",
       "      <td>Bamboo/Timber-Light roof</td>\n",
       "      <td>Mud</td>\n",
       "      <td>Not applicable</td>\n",
       "      <td>Not attached</td>\n",
       "      <td>Rectangular</td>\n",
       "      <td>Damaged-Repaired and used</td>\n",
       "      <td>Grade 2</td>\n",
       "    </tr>\n",
       "    <tr>\n",
       "      <th>4</th>\n",
       "      <td>120101000051</td>\n",
       "      <td>12</td>\n",
       "      <td>1</td>\n",
       "      <td>1</td>\n",
       "      <td>30</td>\n",
       "      <td>308</td>\n",
       "      <td>9</td>\n",
       "      <td>9</td>\n",
       "      <td>Flat</td>\n",
       "      <td>Other</td>\n",
       "      <td>Bamboo/Timber-Light roof</td>\n",
       "      <td>Mud</td>\n",
       "      <td>Not applicable</td>\n",
       "      <td>Not attached</td>\n",
       "      <td>Rectangular</td>\n",
       "      <td>Damaged-Repaired and used</td>\n",
       "      <td>Grade 1</td>\n",
       "    </tr>\n",
       "  </tbody>\n",
       "</table>\n",
       "</div>"
      ],
      "text/plain": [
       "    building_id  district_id  count_floors_pre_eq  count_floors_post_eq  \\\n",
       "0  120101000011           12                    1                     1   \n",
       "1  120101000021           12                    1                     1   \n",
       "2  120101000031           12                    1                     1   \n",
       "3  120101000041           12                    1                     1   \n",
       "4  120101000051           12                    1                     1   \n",
       "\n",
       "   age_building  plinth_area_sq_ft  height_ft_pre_eq  height_ft_post_eq  \\\n",
       "0             9                288                 9                  9   \n",
       "1            15                364                 9                  9   \n",
       "2            20                384                 9                  9   \n",
       "3            20                312                 9                  9   \n",
       "4            30                308                 9                  9   \n",
       "\n",
       "  land_surface_condition foundation_type                 roof_type  \\\n",
       "0                   Flat           Other  Bamboo/Timber-Light roof   \n",
       "1                   Flat           Other  Bamboo/Timber-Light roof   \n",
       "2                   Flat           Other  Bamboo/Timber-Light roof   \n",
       "3                   Flat           Other  Bamboo/Timber-Light roof   \n",
       "4                   Flat           Other  Bamboo/Timber-Light roof   \n",
       "\n",
       "  ground_floor_type other_floor_type      position plan_configuration  \\\n",
       "0               Mud   Not applicable  Not attached        Rectangular   \n",
       "1               Mud   Not applicable  Not attached        Rectangular   \n",
       "2               Mud   Not applicable  Not attached        Rectangular   \n",
       "3               Mud   Not applicable  Not attached        Rectangular   \n",
       "4               Mud   Not applicable  Not attached        Rectangular   \n",
       "\n",
       "           condition_post_eq damage_grade  \n",
       "0       Damaged-Used in risk      Grade 3  \n",
       "1  Damaged-Repaired and used      Grade 5  \n",
       "2  Damaged-Repaired and used      Grade 2  \n",
       "3  Damaged-Repaired and used      Grade 2  \n",
       "4  Damaged-Repaired and used      Grade 1  "
      ]
     },
     "execution_count": 4,
     "metadata": {},
     "output_type": "execute_result"
    }
   ],
   "source": [
    "df.head()"
   ]
  },
  {
   "cell_type": "code",
   "execution_count": 5,
   "id": "de27a636",
   "metadata": {
    "execution": {
     "iopub.execute_input": "2022-08-17T17:35:43.583157Z",
     "iopub.status.busy": "2022-08-17T17:35:43.582362Z",
     "iopub.status.idle": "2022-08-17T17:35:43.686905Z",
     "shell.execute_reply": "2022-08-17T17:35:43.685752Z"
    },
    "papermill": {
     "duration": 0.124515,
     "end_time": "2022-08-17T17:35:43.689630",
     "exception": false,
     "start_time": "2022-08-17T17:35:43.565115",
     "status": "completed"
    },
    "tags": []
   },
   "outputs": [],
   "source": [
    "#setting building_id to index\n",
    "df.drop(columns=\"building_id\", inplace=True)"
   ]
  },
  {
   "cell_type": "markdown",
   "id": "70f7d4b3",
   "metadata": {
    "papermill": {
     "duration": 0.015312,
     "end_time": "2022-08-17T17:35:43.720784",
     "exception": false,
     "start_time": "2022-08-17T17:35:43.705472",
     "status": "completed"
    },
    "tags": []
   },
   "source": [
    "**dropping leaky features**\n",
    "\n",
    "In other to predict earthquake damage we'll drop the variables related to post-earthquake and keep the variables related to pre-earthquake"
   ]
  },
  {
   "cell_type": "code",
   "execution_count": 6,
   "id": "0d945892",
   "metadata": {
    "execution": {
     "iopub.execute_input": "2022-08-17T17:35:43.755466Z",
     "iopub.status.busy": "2022-08-17T17:35:43.754788Z",
     "iopub.status.idle": "2022-08-17T17:35:44.065490Z",
     "shell.execute_reply": "2022-08-17T17:35:44.063950Z"
    },
    "papermill": {
     "duration": 0.33121,
     "end_time": "2022-08-17T17:35:44.068442",
     "exception": false,
     "start_time": "2022-08-17T17:35:43.737232",
     "status": "completed"
    },
    "tags": []
   },
   "outputs": [
    {
     "name": "stdout",
     "output_type": "stream",
     "text": [
      "<class 'pandas.core.frame.DataFrame'>\n",
      "RangeIndex: 762106 entries, 0 to 762105\n",
      "Data columns (total 16 columns):\n",
      " #   Column                  Non-Null Count   Dtype \n",
      "---  ------                  --------------   ----- \n",
      " 0   district_id             762106 non-null  int64 \n",
      " 1   count_floors_pre_eq     762106 non-null  int64 \n",
      " 2   count_floors_post_eq    762106 non-null  int64 \n",
      " 3   age_building            762106 non-null  int64 \n",
      " 4   plinth_area_sq_ft       762106 non-null  int64 \n",
      " 5   height_ft_pre_eq        762106 non-null  int64 \n",
      " 6   height_ft_post_eq       762106 non-null  int64 \n",
      " 7   land_surface_condition  762106 non-null  object\n",
      " 8   foundation_type         762106 non-null  object\n",
      " 9   roof_type               762106 non-null  object\n",
      " 10  ground_floor_type       762106 non-null  object\n",
      " 11  other_floor_type        762106 non-null  object\n",
      " 12  position                762105 non-null  object\n",
      " 13  plan_configuration      762105 non-null  object\n",
      " 14  condition_post_eq       762106 non-null  object\n",
      " 15  damage_grade            762094 non-null  object\n",
      "dtypes: int64(7), object(9)\n",
      "memory usage: 93.0+ MB\n"
     ]
    }
   ],
   "source": [
    "df.info()"
   ]
  },
  {
   "cell_type": "code",
   "execution_count": 7,
   "id": "1765f697",
   "metadata": {
    "execution": {
     "iopub.execute_input": "2022-08-17T17:35:44.103159Z",
     "iopub.status.busy": "2022-08-17T17:35:44.102036Z",
     "iopub.status.idle": "2022-08-17T17:35:44.109080Z",
     "shell.execute_reply": "2022-08-17T17:35:44.108122Z"
    },
    "papermill": {
     "duration": 0.026717,
     "end_time": "2022-08-17T17:35:44.111369",
     "exception": false,
     "start_time": "2022-08-17T17:35:44.084652",
     "status": "completed"
    },
    "tags": []
   },
   "outputs": [
    {
     "data": {
      "text/plain": [
       "['count_floors_post_eq', 'height_ft_post_eq', 'condition_post_eq']"
      ]
     },
     "execution_count": 7,
     "metadata": {},
     "output_type": "execute_result"
    }
   ],
   "source": [
    "drop_cols = []\n",
    "\n",
    "for col in df.columns:\n",
    "    \n",
    "    if \"post_eq\" in col:\n",
    "        drop_cols.append(col)\n",
    "\n",
    "\n",
    "drop_cols "
   ]
  },
  {
   "cell_type": "code",
   "execution_count": 8,
   "id": "9a398b02",
   "metadata": {
    "execution": {
     "iopub.execute_input": "2022-08-17T17:35:44.147335Z",
     "iopub.status.busy": "2022-08-17T17:35:44.145866Z",
     "iopub.status.idle": "2022-08-17T17:35:44.258462Z",
     "shell.execute_reply": "2022-08-17T17:35:44.257479Z"
    },
    "papermill": {
     "duration": 0.132851,
     "end_time": "2022-08-17T17:35:44.261124",
     "exception": false,
     "start_time": "2022-08-17T17:35:44.128273",
     "status": "completed"
    },
    "tags": []
   },
   "outputs": [],
   "source": [
    "df.drop(columns=drop_cols, inplace=True)"
   ]
  },
  {
   "cell_type": "markdown",
   "id": "20924eec",
   "metadata": {
    "papermill": {
     "duration": 0.016008,
     "end_time": "2022-08-17T17:35:44.293666",
     "exception": false,
     "start_time": "2022-08-17T17:35:44.277658",
     "status": "completed"
    },
    "tags": []
   },
   "source": [
    "we will focus on **Ghorka district**, district_id=36"
   ]
  },
  {
   "cell_type": "code",
   "execution_count": 9,
   "id": "a7769042",
   "metadata": {
    "execution": {
     "iopub.execute_input": "2022-08-17T17:35:44.328479Z",
     "iopub.status.busy": "2022-08-17T17:35:44.327475Z",
     "iopub.status.idle": "2022-08-17T17:35:44.374185Z",
     "shell.execute_reply": "2022-08-17T17:35:44.372640Z"
    },
    "papermill": {
     "duration": 0.067014,
     "end_time": "2022-08-17T17:35:44.376958",
     "exception": false,
     "start_time": "2022-08-17T17:35:44.309944",
     "status": "completed"
    },
    "tags": []
   },
   "outputs": [],
   "source": [
    "df = df[(df[\"district_id\"] == 36)]"
   ]
  },
  {
   "cell_type": "code",
   "execution_count": 10,
   "id": "019bf137",
   "metadata": {
    "execution": {
     "iopub.execute_input": "2022-08-17T17:35:44.411422Z",
     "iopub.status.busy": "2022-08-17T17:35:44.411019Z",
     "iopub.status.idle": "2022-08-17T17:35:44.427266Z",
     "shell.execute_reply": "2022-08-17T17:35:44.426110Z"
    },
    "papermill": {
     "duration": 0.035931,
     "end_time": "2022-08-17T17:35:44.429334",
     "exception": false,
     "start_time": "2022-08-17T17:35:44.393403",
     "status": "completed"
    },
    "tags": []
   },
   "outputs": [
    {
     "data": {
      "text/html": [
       "<div>\n",
       "<style scoped>\n",
       "    .dataframe tbody tr th:only-of-type {\n",
       "        vertical-align: middle;\n",
       "    }\n",
       "\n",
       "    .dataframe tbody tr th {\n",
       "        vertical-align: top;\n",
       "    }\n",
       "\n",
       "    .dataframe thead th {\n",
       "        text-align: right;\n",
       "    }\n",
       "</style>\n",
       "<table border=\"1\" class=\"dataframe\">\n",
       "  <thead>\n",
       "    <tr style=\"text-align: right;\">\n",
       "      <th></th>\n",
       "      <th>district_id</th>\n",
       "      <th>count_floors_pre_eq</th>\n",
       "      <th>age_building</th>\n",
       "      <th>plinth_area_sq_ft</th>\n",
       "      <th>height_ft_pre_eq</th>\n",
       "      <th>land_surface_condition</th>\n",
       "      <th>foundation_type</th>\n",
       "      <th>roof_type</th>\n",
       "      <th>ground_floor_type</th>\n",
       "      <th>other_floor_type</th>\n",
       "      <th>position</th>\n",
       "      <th>plan_configuration</th>\n",
       "      <th>damage_grade</th>\n",
       "    </tr>\n",
       "  </thead>\n",
       "  <tbody>\n",
       "    <tr>\n",
       "      <th>656563</th>\n",
       "      <td>36</td>\n",
       "      <td>2</td>\n",
       "      <td>4</td>\n",
       "      <td>280</td>\n",
       "      <td>18</td>\n",
       "      <td>Flat</td>\n",
       "      <td>Mud mortar-Stone/Brick</td>\n",
       "      <td>Bamboo/Timber-Light roof</td>\n",
       "      <td>Mud</td>\n",
       "      <td>TImber/Bamboo-Mud</td>\n",
       "      <td>Not attached</td>\n",
       "      <td>Rectangular</td>\n",
       "      <td>Grade 5</td>\n",
       "    </tr>\n",
       "    <tr>\n",
       "      <th>656605</th>\n",
       "      <td>36</td>\n",
       "      <td>1</td>\n",
       "      <td>15</td>\n",
       "      <td>120</td>\n",
       "      <td>18</td>\n",
       "      <td>Flat</td>\n",
       "      <td>Mud mortar-Stone/Brick</td>\n",
       "      <td>Bamboo/Timber-Light roof</td>\n",
       "      <td>Mud</td>\n",
       "      <td>Not applicable</td>\n",
       "      <td>Attached-1 side</td>\n",
       "      <td>Rectangular</td>\n",
       "      <td>Grade 5</td>\n",
       "    </tr>\n",
       "    <tr>\n",
       "      <th>656626</th>\n",
       "      <td>36</td>\n",
       "      <td>2</td>\n",
       "      <td>25</td>\n",
       "      <td>300</td>\n",
       "      <td>14</td>\n",
       "      <td>Flat</td>\n",
       "      <td>Mud mortar-Stone/Brick</td>\n",
       "      <td>Bamboo/Timber-Light roof</td>\n",
       "      <td>Mud</td>\n",
       "      <td>TImber/Bamboo-Mud</td>\n",
       "      <td>Not attached</td>\n",
       "      <td>Rectangular</td>\n",
       "      <td>Grade 5</td>\n",
       "    </tr>\n",
       "  </tbody>\n",
       "</table>\n",
       "</div>"
      ],
      "text/plain": [
       "        district_id  count_floors_pre_eq  age_building  plinth_area_sq_ft  \\\n",
       "656563           36                    2             4                280   \n",
       "656605           36                    1            15                120   \n",
       "656626           36                    2            25                300   \n",
       "\n",
       "        height_ft_pre_eq land_surface_condition         foundation_type  \\\n",
       "656563                18                   Flat  Mud mortar-Stone/Brick   \n",
       "656605                18                   Flat  Mud mortar-Stone/Brick   \n",
       "656626                14                   Flat  Mud mortar-Stone/Brick   \n",
       "\n",
       "                       roof_type ground_floor_type   other_floor_type  \\\n",
       "656563  Bamboo/Timber-Light roof               Mud  TImber/Bamboo-Mud   \n",
       "656605  Bamboo/Timber-Light roof               Mud     Not applicable   \n",
       "656626  Bamboo/Timber-Light roof               Mud  TImber/Bamboo-Mud   \n",
       "\n",
       "               position plan_configuration damage_grade  \n",
       "656563     Not attached        Rectangular      Grade 5  \n",
       "656605  Attached-1 side        Rectangular      Grade 5  \n",
       "656626     Not attached        Rectangular      Grade 5  "
      ]
     },
     "execution_count": 10,
     "metadata": {},
     "output_type": "execute_result"
    }
   ],
   "source": [
    "df.head(3)"
   ]
  },
  {
   "cell_type": "code",
   "execution_count": 11,
   "id": "7ee53f54",
   "metadata": {
    "execution": {
     "iopub.execute_input": "2022-08-17T17:35:44.464547Z",
     "iopub.status.busy": "2022-08-17T17:35:44.464161Z",
     "iopub.status.idle": "2022-08-17T17:35:44.475103Z",
     "shell.execute_reply": "2022-08-17T17:35:44.474047Z"
    },
    "papermill": {
     "duration": 0.03135,
     "end_time": "2022-08-17T17:35:44.477681",
     "exception": false,
     "start_time": "2022-08-17T17:35:44.446331",
     "status": "completed"
    },
    "tags": []
   },
   "outputs": [],
   "source": [
    "df.drop(columns=\"district_id\", inplace=True)"
   ]
  },
  {
   "cell_type": "markdown",
   "id": "4aae3433",
   "metadata": {
    "papermill": {
     "duration": 0.015943,
     "end_time": "2022-08-17T17:35:44.509810",
     "exception": false,
     "start_time": "2022-08-17T17:35:44.493867",
     "status": "completed"
    },
    "tags": []
   },
   "source": [
    "**encoding our target damage_grade to binary**"
   ]
  },
  {
   "cell_type": "code",
   "execution_count": 12,
   "id": "c4ba2d9c",
   "metadata": {
    "execution": {
     "iopub.execute_input": "2022-08-17T17:35:44.544362Z",
     "iopub.status.busy": "2022-08-17T17:35:44.543976Z",
     "iopub.status.idle": "2022-08-17T17:35:44.557220Z",
     "shell.execute_reply": "2022-08-17T17:35:44.556195Z"
    },
    "papermill": {
     "duration": 0.033621,
     "end_time": "2022-08-17T17:35:44.559748",
     "exception": false,
     "start_time": "2022-08-17T17:35:44.526127",
     "status": "completed"
    },
    "tags": []
   },
   "outputs": [
    {
     "data": {
      "text/plain": [
       "Grade 5    27125\n",
       "Grade 4    22536\n",
       "Grade 3    15507\n",
       "Grade 2     8555\n",
       "Grade 1     4351\n",
       "Name: damage_grade, dtype: int64"
      ]
     },
     "execution_count": 12,
     "metadata": {},
     "output_type": "execute_result"
    }
   ],
   "source": [
    "# we should convert the variable to categorical encoded with 1 and 0\n",
    "df[\"damage_grade\"].value_counts()"
   ]
  },
  {
   "cell_type": "code",
   "execution_count": 13,
   "id": "2044f0ca",
   "metadata": {
    "execution": {
     "iopub.execute_input": "2022-08-17T17:35:44.595519Z",
     "iopub.status.busy": "2022-08-17T17:35:44.595144Z",
     "iopub.status.idle": "2022-08-17T17:35:44.668370Z",
     "shell.execute_reply": "2022-08-17T17:35:44.667485Z"
    },
    "papermill": {
     "duration": 0.094305,
     "end_time": "2022-08-17T17:35:44.670953",
     "exception": false,
     "start_time": "2022-08-17T17:35:44.576648",
     "status": "completed"
    },
    "tags": []
   },
   "outputs": [],
   "source": [
    "# we will label Grade 5 and Grande 4 as 1   (positive class)\n",
    "# grade 1, 2, 3 as 0  (negative class)\n",
    "df[\"damage_grade\"] = df[\"damage_grade\"].str[-1].astype(int)\n",
    "df[\"severe_damage\"] = (df[\"damage_grade\"] > 3).astype(int)\n",
    "df.drop(columns=\"damage_grade\", inplace=True)"
   ]
  },
  {
   "cell_type": "markdown",
   "id": "f4d1d65d",
   "metadata": {
    "papermill": {
     "duration": 0.016161,
     "end_time": "2022-08-17T17:35:44.703694",
     "exception": false,
     "start_time": "2022-08-17T17:35:44.687533",
     "status": "completed"
    },
    "tags": []
   },
   "source": [
    "# Explore"
   ]
  },
  {
   "cell_type": "code",
   "execution_count": 14,
   "id": "7528314f",
   "metadata": {
    "execution": {
     "iopub.execute_input": "2022-08-17T17:35:44.740538Z",
     "iopub.status.busy": "2022-08-17T17:35:44.740045Z",
     "iopub.status.idle": "2022-08-17T17:35:45.041813Z",
     "shell.execute_reply": "2022-08-17T17:35:45.040679Z"
    },
    "papermill": {
     "duration": 0.323197,
     "end_time": "2022-08-17T17:35:45.044423",
     "exception": false,
     "start_time": "2022-08-17T17:35:44.721226",
     "status": "completed"
    },
    "tags": []
   },
   "outputs": [
    {
     "data": {
      "image/png": "[encoded data removed]",
      "text/plain": [
       "<Figure size 432x288 with 2 Axes>"
      ]
     },
     "metadata": {
      "needs_background": "light"
     },
     "output_type": "display_data"
    }
   ],
   "source": [
    "correlation = df[[\"count_floors_pre_eq\",\"age_building\",\"plinth_area_sq_ft\",\"height_ft_pre_eq\"]].corr()\n",
    "sns.heatmap(correlation);"
   ]
  },
  {
   "cell_type": "code",
   "execution_count": 15,
   "id": "d6bd888a",
   "metadata": {
    "execution": {
     "iopub.execute_input": "2022-08-17T17:35:45.080934Z",
     "iopub.status.busy": "2022-08-17T17:35:45.080535Z",
     "iopub.status.idle": "2022-08-17T17:35:45.092696Z",
     "shell.execute_reply": "2022-08-17T17:35:45.091691Z"
    },
    "papermill": {
     "duration": 0.032861,
     "end_time": "2022-08-17T17:35:45.095045",
     "exception": false,
     "start_time": "2022-08-17T17:35:45.062184",
     "status": "completed"
    },
    "tags": []
   },
   "outputs": [
    {
     "data": {
      "text/html": [
       "<div>\n",
       "<style scoped>\n",
       "    .dataframe tbody tr th:only-of-type {\n",
       "        vertical-align: middle;\n",
       "    }\n",
       "\n",
       "    .dataframe tbody tr th {\n",
       "        vertical-align: top;\n",
       "    }\n",
       "\n",
       "    .dataframe thead th {\n",
       "        text-align: right;\n",
       "    }\n",
       "</style>\n",
       "<table border=\"1\" class=\"dataframe\">\n",
       "  <thead>\n",
       "    <tr style=\"text-align: right;\">\n",
       "      <th></th>\n",
       "      <th>count_floors_pre_eq</th>\n",
       "      <th>age_building</th>\n",
       "      <th>plinth_area_sq_ft</th>\n",
       "      <th>height_ft_pre_eq</th>\n",
       "    </tr>\n",
       "  </thead>\n",
       "  <tbody>\n",
       "    <tr>\n",
       "      <th>count_floors_pre_eq</th>\n",
       "      <td>1.000000</td>\n",
       "      <td>0.062670</td>\n",
       "      <td>0.196953</td>\n",
       "      <td>0.749044</td>\n",
       "    </tr>\n",
       "    <tr>\n",
       "      <th>age_building</th>\n",
       "      <td>0.062670</td>\n",
       "      <td>1.000000</td>\n",
       "      <td>-0.019476</td>\n",
       "      <td>0.047666</td>\n",
       "    </tr>\n",
       "    <tr>\n",
       "      <th>plinth_area_sq_ft</th>\n",
       "      <td>0.196953</td>\n",
       "      <td>-0.019476</td>\n",
       "      <td>1.000000</td>\n",
       "      <td>0.286794</td>\n",
       "    </tr>\n",
       "    <tr>\n",
       "      <th>height_ft_pre_eq</th>\n",
       "      <td>0.749044</td>\n",
       "      <td>0.047666</td>\n",
       "      <td>0.286794</td>\n",
       "      <td>1.000000</td>\n",
       "    </tr>\n",
       "  </tbody>\n",
       "</table>\n",
       "</div>"
      ],
      "text/plain": [
       "                     count_floors_pre_eq  age_building  plinth_area_sq_ft  \\\n",
       "count_floors_pre_eq             1.000000      0.062670           0.196953   \n",
       "age_building                    0.062670      1.000000          -0.019476   \n",
       "plinth_area_sq_ft               0.196953     -0.019476           1.000000   \n",
       "height_ft_pre_eq                0.749044      0.047666           0.286794   \n",
       "\n",
       "                     height_ft_pre_eq  \n",
       "count_floors_pre_eq          0.749044  \n",
       "age_building                 0.047666  \n",
       "plinth_area_sq_ft            0.286794  \n",
       "height_ft_pre_eq             1.000000  "
      ]
     },
     "execution_count": 15,
     "metadata": {},
     "output_type": "execute_result"
    }
   ],
   "source": [
    "correlation"
   ]
  },
  {
   "cell_type": "markdown",
   "id": "d8f7011f",
   "metadata": {
    "papermill": {
     "duration": 0.016773,
     "end_time": "2022-08-17T17:35:45.129182",
     "exception": false,
     "start_time": "2022-08-17T17:35:45.112409",
     "status": "completed"
    },
    "tags": []
   },
   "source": [
    "we see from above that the number of floors is **correlated** with the height of the building so we decided to drop the count_floors_pre_eq feature"
   ]
  },
  {
   "cell_type": "code",
   "execution_count": 16,
   "id": "da903c26",
   "metadata": {
    "execution": {
     "iopub.execute_input": "2022-08-17T17:35:45.165112Z",
     "iopub.status.busy": "2022-08-17T17:35:45.164689Z",
     "iopub.status.idle": "2022-08-17T17:35:45.177283Z",
     "shell.execute_reply": "2022-08-17T17:35:45.176291Z"
    },
    "papermill": {
     "duration": 0.033183,
     "end_time": "2022-08-17T17:35:45.179574",
     "exception": false,
     "start_time": "2022-08-17T17:35:45.146391",
     "status": "completed"
    },
    "tags": []
   },
   "outputs": [],
   "source": [
    "df.drop(columns=\"count_floors_pre_eq\", inplace=True)"
   ]
  },
  {
   "cell_type": "markdown",
   "id": "47545368",
   "metadata": {
    "papermill": {
     "duration": 0.016731,
     "end_time": "2022-08-17T17:35:45.213442",
     "exception": false,
     "start_time": "2022-08-17T17:35:45.196711",
     "status": "completed"
    },
    "tags": []
   },
   "source": [
    "**boxplot for distribution of height_ft_pre_eq**"
   ]
  },
  {
   "cell_type": "code",
   "execution_count": 17,
   "id": "ab356d6f",
   "metadata": {
    "execution": {
     "iopub.execute_input": "2022-08-17T17:35:45.249705Z",
     "iopub.status.busy": "2022-08-17T17:35:45.248854Z",
     "iopub.status.idle": "2022-08-17T17:35:45.465546Z",
     "shell.execute_reply": "2022-08-17T17:35:45.464451Z"
    },
    "papermill": {
     "duration": 0.237664,
     "end_time": "2022-08-17T17:35:45.468119",
     "exception": false,
     "start_time": "2022-08-17T17:35:45.230455",
     "status": "completed"
    },
    "tags": []
   },
   "outputs": [
    {
     "data": {
      "image/png": "[encoded data removed]",
      "text/plain": [
       "<Figure size 432x288 with 1 Axes>"
      ]
     },
     "metadata": {
      "needs_background": "light"
     },
     "output_type": "display_data"
    }
   ],
   "source": [
    "sns.boxplot(x=\"severe_damage\", y=\"height_ft_pre_eq\", data=df)\n",
    "plt.xlabel(\"severe damage\")\n",
    "plt.ylabel(\"height_ft_pre_eq [ft.]\")\n",
    "plt.title(\"Distribution of Building height by severe damage class\");"
   ]
  },
  {
   "cell_type": "markdown",
   "id": "f083b74a",
   "metadata": {
    "papermill": {
     "duration": 0.017215,
     "end_time": "2022-08-17T17:35:45.503523",
     "exception": false,
     "start_time": "2022-08-17T17:35:45.486308",
     "status": "completed"
    },
    "tags": []
   },
   "source": [
    "**Class Balance**"
   ]
  },
  {
   "cell_type": "markdown",
   "id": "2c67fa86",
   "metadata": {
    "papermill": {
     "duration": 0.017341,
     "end_time": "2022-08-17T17:35:45.538276",
     "exception": false,
     "start_time": "2022-08-17T17:35:45.520935",
     "status": "completed"
    },
    "tags": []
   },
   "source": [
    "around 65% of the buildings were severe damaged, (severe=1  positive class,   majority class)\n",
    "\n",
    "around 35% of the buildings wee not severe damaged, (severe=0  negative class,  minority class)"
   ]
  },
  {
   "cell_type": "code",
   "execution_count": 18,
   "id": "340e9953",
   "metadata": {
    "execution": {
     "iopub.execute_input": "2022-08-17T17:35:45.575740Z",
     "iopub.status.busy": "2022-08-17T17:35:45.574977Z",
     "iopub.status.idle": "2022-08-17T17:35:45.776668Z",
     "shell.execute_reply": "2022-08-17T17:35:45.775382Z"
    },
    "papermill": {
     "duration": 0.223649,
     "end_time": "2022-08-17T17:35:45.779248",
     "exception": false,
     "start_time": "2022-08-17T17:35:45.555599",
     "status": "completed"
    },
    "tags": []
   },
   "outputs": [
    {
     "data": {
      "image/png": "[encoded data removed]",
      "text/plain": [
       "<Figure size 432x288 with 1 Axes>"
      ]
     },
     "metadata": {
      "needs_background": "light"
     },
     "output_type": "display_data"
    }
   ],
   "source": [
    "df[\"severe_damage\"].value_counts(normalize=True).plot(\n",
    "    kind=\"bar\", xlabel=\"Class\", ylabel=\"relative frequency\", title=\"Class Balance\"\n",
    ");"
   ]
  },
  {
   "cell_type": "code",
   "execution_count": 19,
   "id": "adb9a013",
   "metadata": {
    "execution": {
     "iopub.execute_input": "2022-08-17T17:35:45.816977Z",
     "iopub.status.busy": "2022-08-17T17:35:45.816000Z",
     "iopub.status.idle": "2022-08-17T17:35:45.823449Z",
     "shell.execute_reply": "2022-08-17T17:35:45.822147Z"
    },
    "papermill": {
     "duration": 0.028442,
     "end_time": "2022-08-17T17:35:45.825679",
     "exception": false,
     "start_time": "2022-08-17T17:35:45.797237",
     "status": "completed"
    },
    "tags": []
   },
   "outputs": [
    {
     "name": "stdout",
     "output_type": "stream",
     "text": [
      "0.6360760304326665 0.3639239695673336\n"
     ]
    }
   ],
   "source": [
    "majority_class_prop, minority_class_prop = df[\"severe_damage\"].value_counts(normalize=True)\n",
    "print(majority_class_prop, minority_class_prop)"
   ]
  },
  {
   "cell_type": "markdown",
   "id": "7fb367c4",
   "metadata": {
    "papermill": {
     "duration": 0.017429,
     "end_time": "2022-08-17T17:35:45.861022",
     "exception": false,
     "start_time": "2022-08-17T17:35:45.843593",
     "status": "completed"
    },
    "tags": []
   },
   "source": [
    "**Pivot table for foundation type**"
   ]
  },
  {
   "cell_type": "code",
   "execution_count": 20,
   "id": "88dd3e3e",
   "metadata": {
    "execution": {
     "iopub.execute_input": "2022-08-17T17:35:45.899624Z",
     "iopub.status.busy": "2022-08-17T17:35:45.898567Z",
     "iopub.status.idle": "2022-08-17T17:35:45.927645Z",
     "shell.execute_reply": "2022-08-17T17:35:45.926775Z"
    },
    "papermill": {
     "duration": 0.050409,
     "end_time": "2022-08-17T17:35:45.929593",
     "exception": false,
     "start_time": "2022-08-17T17:35:45.879184",
     "status": "completed"
    },
    "tags": []
   },
   "outputs": [
    {
     "data": {
      "text/html": [
       "<div>\n",
       "<style scoped>\n",
       "    .dataframe tbody tr th:only-of-type {\n",
       "        vertical-align: middle;\n",
       "    }\n",
       "\n",
       "    .dataframe tbody tr th {\n",
       "        vertical-align: top;\n",
       "    }\n",
       "\n",
       "    .dataframe thead th {\n",
       "        text-align: right;\n",
       "    }\n",
       "</style>\n",
       "<table border=\"1\" class=\"dataframe\">\n",
       "  <thead>\n",
       "    <tr style=\"text-align: right;\">\n",
       "      <th></th>\n",
       "      <th>severe_damage</th>\n",
       "    </tr>\n",
       "    <tr>\n",
       "      <th>foundation_type</th>\n",
       "      <th></th>\n",
       "    </tr>\n",
       "  </thead>\n",
       "  <tbody>\n",
       "    <tr>\n",
       "      <th>RC</th>\n",
       "      <td>0.027134</td>\n",
       "    </tr>\n",
       "    <tr>\n",
       "      <th>Bamboo/Timber</th>\n",
       "      <td>0.321429</td>\n",
       "    </tr>\n",
       "    <tr>\n",
       "      <th>Cement-Stone/Brick</th>\n",
       "      <td>0.410200</td>\n",
       "    </tr>\n",
       "    <tr>\n",
       "      <th>Mud mortar-Stone/Brick</th>\n",
       "      <td>0.684101</td>\n",
       "    </tr>\n",
       "    <tr>\n",
       "      <th>Other</th>\n",
       "      <td>0.801020</td>\n",
       "    </tr>\n",
       "  </tbody>\n",
       "</table>\n",
       "</div>"
      ],
      "text/plain": [
       "                        severe_damage\n",
       "foundation_type                      \n",
       "RC                           0.027134\n",
       "Bamboo/Timber                0.321429\n",
       "Cement-Stone/Brick           0.410200\n",
       "Mud mortar-Stone/Brick       0.684101\n",
       "Other                        0.801020"
      ]
     },
     "execution_count": 20,
     "metadata": {},
     "output_type": "execute_result"
    }
   ],
   "source": [
    "foundation_pivot = pd.pivot_table(\n",
    "    df, index=\"foundation_type\", values=\"severe_damage\", aggfunc=np.mean\n",
    ")\n",
    "foundation_pivot.sort_values(by=\"severe_damage\")"
   ]
  },
  {
   "cell_type": "markdown",
   "id": "4094d086",
   "metadata": {
    "papermill": {
     "duration": 0.017588,
     "end_time": "2022-08-17T17:35:45.964964",
     "exception": false,
     "start_time": "2022-08-17T17:35:45.947376",
     "status": "completed"
    },
    "tags": []
   },
   "source": [
    "only 2.7% of the buildings that have the foundation type RC (reinforced concrete) suffered severe danmage"
   ]
  },
  {
   "cell_type": "code",
   "execution_count": 21,
   "id": "48ee5a99",
   "metadata": {
    "execution": {
     "iopub.execute_input": "2022-08-17T17:35:46.002608Z",
     "iopub.status.busy": "2022-08-17T17:35:46.002203Z",
     "iopub.status.idle": "2022-08-17T17:35:46.239578Z",
     "shell.execute_reply": "2022-08-17T17:35:46.238764Z"
    },
    "papermill": {
     "duration": 0.258666,
     "end_time": "2022-08-17T17:35:46.241648",
     "exception": false,
     "start_time": "2022-08-17T17:35:45.982982",
     "status": "completed"
    },
    "tags": []
   },
   "outputs": [
    {
     "data": {
      "image/png": "[encoded data removed]",
      "text/plain": [
       "<Figure size 432x288 with 1 Axes>"
      ]
     },
     "metadata": {
      "needs_background": "light"
     },
     "output_type": "display_data"
    }
   ],
   "source": [
    "foundation_pivot.sort_values(by=\"severe_damage\").plot(kind=\"barh\", legend=None)\n",
    "plt.axvline(\n",
    "    majority_class_prop, linestyle=\"--\", color=\"red\", label=\"majority class\"\n",
    ")\n",
    "plt.axvline(\n",
    "    minority_class_prop, linestyle=\"--\", color=\"green\", label=\"minority class\"\n",
    ")\n",
    "plt.legend(loc=\"lower right\");"
   ]
  },
  {
   "cell_type": "markdown",
   "id": "32b41295",
   "metadata": {
    "papermill": {
     "duration": 0.017838,
     "end_time": "2022-08-17T17:35:46.278090",
     "exception": false,
     "start_time": "2022-08-17T17:35:46.260252",
     "status": "completed"
    },
    "tags": []
   },
   "source": [
    "# Logistic Regression"
   ]
  },
  {
   "cell_type": "markdown",
   "id": "da6e9c54",
   "metadata": {
    "papermill": {
     "duration": 0.017735,
     "end_time": "2022-08-17T17:35:46.313743",
     "exception": false,
     "start_time": "2022-08-17T17:35:46.296008",
     "status": "completed"
    },
    "tags": []
   },
   "source": [
    "**Split**"
   ]
  },
  {
   "cell_type": "code",
   "execution_count": 22,
   "id": "93f6c466",
   "metadata": {
    "execution": {
     "iopub.execute_input": "2022-08-17T17:35:46.351776Z",
     "iopub.status.busy": "2022-08-17T17:35:46.351065Z",
     "iopub.status.idle": "2022-08-17T17:35:46.357235Z",
     "shell.execute_reply": "2022-08-17T17:35:46.356333Z"
    },
    "papermill": {
     "duration": 0.027661,
     "end_time": "2022-08-17T17:35:46.359295",
     "exception": false,
     "start_time": "2022-08-17T17:35:46.331634",
     "status": "completed"
    },
    "tags": []
   },
   "outputs": [
    {
     "data": {
      "text/plain": [
       "(78074, 11)"
      ]
     },
     "execution_count": 22,
     "metadata": {},
     "output_type": "execute_result"
    }
   ],
   "source": [
    "df.shape"
   ]
  },
  {
   "cell_type": "code",
   "execution_count": 23,
   "id": "1b895e56",
   "metadata": {
    "execution": {
     "iopub.execute_input": "2022-08-17T17:35:46.397429Z",
     "iopub.status.busy": "2022-08-17T17:35:46.396617Z",
     "iopub.status.idle": "2022-08-17T17:35:46.407659Z",
     "shell.execute_reply": "2022-08-17T17:35:46.406741Z"
    },
    "papermill": {
     "duration": 0.032654,
     "end_time": "2022-08-17T17:35:46.409995",
     "exception": false,
     "start_time": "2022-08-17T17:35:46.377341",
     "status": "completed"
    },
    "tags": []
   },
   "outputs": [],
   "source": [
    "target = \"severe_damage\"\n",
    "X = df.drop(columns=target)\n",
    "y=df[target]"
   ]
  },
  {
   "cell_type": "code",
   "execution_count": 24,
   "id": "1879d2af",
   "metadata": {
    "execution": {
     "iopub.execute_input": "2022-08-17T17:35:46.447787Z",
     "iopub.status.busy": "2022-08-17T17:35:46.447418Z",
     "iopub.status.idle": "2022-08-17T17:35:46.484150Z",
     "shell.execute_reply": "2022-08-17T17:35:46.482948Z"
    },
    "papermill": {
     "duration": 0.058156,
     "end_time": "2022-08-17T17:35:46.486426",
     "exception": false,
     "start_time": "2022-08-17T17:35:46.428270",
     "status": "completed"
    },
    "tags": []
   },
   "outputs": [
    {
     "name": "stdout",
     "output_type": "stream",
     "text": [
      "X_train_shape (62459, 10)\n",
      "X_test_shape (15615, 10)\n",
      "y_train_shape (62459,)\n",
      "y_test_shape (15615, 10)\n"
     ]
    }
   ],
   "source": [
    "X_train, X_test, y_train, y_test = train_test_split(\n",
    "    X, y, test_size=0.2, random_state=42\n",
    ")\n",
    "\n",
    "print(\"X_train_shape\", X_train.shape)\n",
    "print(\"X_test_shape\", X_test.shape)\n",
    "print(\"y_train_shape\", y_train.shape)\n",
    "print(\"y_test_shape\", X_test.shape)"
   ]
  },
  {
   "cell_type": "markdown",
   "id": "b8b2c76d",
   "metadata": {
    "papermill": {
     "duration": 0.019702,
     "end_time": "2022-08-17T17:36:15.501695",
     "exception": false,
     "start_time": "2022-08-17T17:36:15.481993",
     "status": "completed"
    },
    "tags": []
   },
   "source": [
    "**Communicate**"
   ]
  },
  {
   "cell_type": "code",
   "execution_count": 50,
   "id": "c60b2ada",
   "metadata": {
    "execution": {
     "iopub.execute_input": "2022-08-17T17:36:15.544245Z",
     "iopub.status.busy": "2022-08-17T17:36:15.543866Z",
     "iopub.status.idle": "2022-08-17T17:36:17.027290Z",
     "shell.execute_reply": "2022-08-17T17:36:17.026390Z"
    },
    "papermill": {
     "duration": 1.508879,
     "end_time": "2022-08-17T17:36:17.030965",
     "exception": false,
     "start_time": "2022-08-17T17:36:15.522086",
     "status": "completed"
    },
    "tags": []
   },
   "outputs": [
    {
     "data": {
      "image/png": "[encoded data removed]",
      "text/plain": [
       "<Figure size 1800x864 with 1 Axes>"
      ]
     },
     "metadata": {
      "needs_background": "light"
     },
     "output_type": "display_data"
    }
   ],
   "source": [
    "# Create larger figure\n",
    "fig, ax = plt.subplots(figsize=(25, 12))\n",
    "# Plot tree\n",
    "plot_tree(\n",
    "    decision_tree=model.named_steps[\"decisiontreeclassifier\"],\n",
    "    feature_names=X_train.columns,\n",
    "    filled=True,  # Color leaf with class\n",
    "    rounded=True,  # Round leaf edges\n",
    "    proportion=True,  # Display proportion of classes in leaf\n",
    "    max_depth=3,  # Only display first 3 levels\n",
    "    fontsize=12,  # Enlarge font\n",
    "    ax=ax,  # Place in figure axis\n",
    ");"
   ]
  },
  {
   "cell_type": "code",
   "execution_count": 51,
   "id": "cf6c367f",
   "metadata": {
    "execution": {
     "iopub.execute_input": "2022-08-17T17:36:17.078280Z",
     "iopub.status.busy": "2022-08-17T17:36:17.077856Z",
     "iopub.status.idle": "2022-08-17T17:36:17.084588Z",
     "shell.execute_reply": "2022-08-17T17:36:17.083389Z"
    },
    "papermill": {
     "duration": 0.034241,
     "end_time": "2022-08-17T17:36:17.087867",
     "exception": false,
     "start_time": "2022-08-17T17:36:17.053626",
     "status": "completed"
    },
    "tags": []
   },
   "outputs": [
    {
     "name": "stdout",
     "output_type": "stream",
     "text": [
      "Features: Index(['age_building', 'plinth_area_sq_ft', 'height_ft_pre_eq'], dtype='object')\n",
      "Importances: [0.06712469 0.04628482 0.14590898]\n"
     ]
    }
   ],
   "source": [
    "features = X_train.columns\n",
    "importances = model.named_steps[\"decisiontreeclassifier\"].feature_importances_\n",
    "\n",
    "print(\"Features:\", features[:3])\n",
    "print(\"Importances:\", importances[:3])"
   ]
  },
  {
   "cell_type": "code",
   "execution_count": 52,
   "id": "fed62afa",
   "metadata": {
    "execution": {
     "iopub.execute_input": "2022-08-17T17:36:17.135605Z",
     "iopub.status.busy": "2022-08-17T17:36:17.135235Z",
     "iopub.status.idle": "2022-08-17T17:36:17.142569Z",
     "shell.execute_reply": "2022-08-17T17:36:17.141732Z"
    },
    "papermill": {
     "duration": 0.033523,
     "end_time": "2022-08-17T17:36:17.144562",
     "exception": false,
     "start_time": "2022-08-17T17:36:17.111039",
     "status": "completed"
    },
    "tags": []
   },
   "outputs": [
    {
     "data": {
      "text/plain": [
       "age_building              0.067125\n",
       "plinth_area_sq_ft         0.046285\n",
       "height_ft_pre_eq          0.145909\n",
       "land_surface_condition    0.012790\n",
       "foundation_type           0.062795\n",
       "dtype: float64"
      ]
     },
     "execution_count": 52,
     "metadata": {},
     "output_type": "execute_result"
    }
   ],
   "source": [
    "feat_imp = pd.Series(importances,index=features)\n",
    "feat_imp.head()"
   ]
  },
  {
   "cell_type": "markdown",
   "id": "bd583b5c",
   "metadata": {
    "papermill": {
     "duration": 0.022221,
     "end_time": "2022-08-17T17:36:17.189777",
     "exception": false,
     "start_time": "2022-08-17T17:36:17.167556",
     "status": "completed"
    },
    "tags": []
   },
   "source": [
    " Create a horizontal bar chart with all the features in feat_imp. Be sure to label your x-axis **\"Gini Importances\"**"
   ]
  },
  {
   "cell_type": "code",
   "execution_count": 53,
   "id": "08a5881f",
   "metadata": {
    "execution": {
     "iopub.execute_input": "2022-08-17T17:36:17.237476Z",
     "iopub.status.busy": "2022-08-17T17:36:17.236260Z",
     "iopub.status.idle": "2022-08-17T17:36:17.456609Z",
     "shell.execute_reply": "2022-08-17T17:36:17.455867Z"
    },
    "papermill": {
     "duration": 0.246442,
     "end_time": "2022-08-17T17:36:17.458675",
     "exception": false,
     "start_time": "2022-08-17T17:36:17.212233",
     "status": "completed"
    },
    "tags": []
   },
   "outputs": [
    {
     "data": {
      "image/png": "[encoded data removed]",
      "text/plain": [
       "<Figure size 432x288 with 1 Axes>"
      ]
     },
     "metadata": {
      "needs_background": "light"
     },
     "output_type": "display_data"
    }
   ],
   "source": [
    "feat_imp.sort_values().plot(kind=\"barh\")\n",
    "plt.xlabel(\"Gini Importance\")\n",
    "plt.ylabel(\"Feature\");"
   ]
  },
  {
   "cell_type": "markdown",
   "id": "2e103b49",
   "metadata": {
    "papermill": {
     "duration": 0.022817,
     "end_time": "2022-08-17T17:36:17.552389",
     "exception": false,
     "start_time": "2022-08-17T17:36:17.529572",
     "status": "completed"
    },
    "tags": []
   },
   "source": [
    "**This project was possible thanks to the lessons from Worldquant university data science lab**"
   ]
  }
 ],
 "metadata": {
  "kernelspec": {
   "display_name": "Python 3",
   "language": "python",
   "name": "python3"
  },
  "language_info": {
   "codemirror_mode": {
    "name": "ipython",
    "version": 3
   },
   "file_extension": ".py",
   "mimetype": "text/x-python",
   "name": "python",
   "nbconvert_exporter": "python",
   "pygments_lexer": "ipython3",
   "version": "3.9.12"
  },
  "papermill": {
   "default_parameters": {},
   "duration": 47.605704,
   "end_time": "2022-08-17T17:36:18.397198",
   "environment_variables": {},
   "exception": null,
   "input_path": "__notebook__.ipynb",
   "output_path": "__notebook__.ipynb",
   "parameters": {},
   "start_time": "2022-08-17T17:35:30.791494",
   "version": "2.3.4"
  }
 },
 "nbformat": 4,
 "nbformat_minor": 5
}
